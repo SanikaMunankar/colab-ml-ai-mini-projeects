{
  "nbformat": 4,
  "nbformat_minor": 0,
  "metadata": {
    "colab": {
      "provenance": [],
      "authorship_tag": "ABX9TyMMXwL13aTvLC1Ig1n5M+8a",
      "include_colab_link": true
    },
    "kernelspec": {
      "name": "python3",
      "display_name": "Python 3"
    },
    "language_info": {
      "name": "python"
    }
  },
  "cells": [
    {
      "cell_type": "markdown",
      "metadata": {
        "id": "view-in-github",
        "colab_type": "text"
      },
      "source": [
        "<a href=\"https://colab.research.google.com/github/SanikaMunankar/colab-ml-ai-mini-projeects/blob/main/Naive_Bayes.ipynb\" target=\"_parent\"><img src=\"https://colab.research.google.com/assets/colab-badge.svg\" alt=\"Open In Colab\"/></a>"
      ]
    },
    {
      "cell_type": "code",
      "execution_count": null,
      "metadata": {
        "colab": {
          "base_uri": "https://localhost:8080/"
        },
        "id": "yICXNkTofk3d",
        "outputId": "09fa22d5-b9fa-4556-fda6-fa032833f696"
      },
      "outputs": [
        {
          "output_type": "stream",
          "name": "stdout",
          "text": [
            "Accuracy: 1.0\n",
            "Prediction for the new sample: setosa\n"
          ]
        }
      ],
      "source": [
        "from sklearn.datasets import load_iris\n",
        "from sklearn.model_selection import train_test_split\n",
        "from sklearn.naive_bayes import GaussianNB\n",
        "from sklearn import metrics\n",
        "\n",
        "# Load the Iris dataset\n",
        "iris = load_iris()\n",
        "X = iris.data\n",
        "y = iris.target\n",
        "\n",
        "# Split the dataset into training and testing sets\n",
        "X_train, X_test, y_train, y_test = train_test_split(X, y, test_size=0.25, random_state=42)\n",
        "\n",
        "# Create a Naive Bayes classifier (Gaussian Naive Bayes for continuous features)\n",
        "classifier = GaussianNB()\n",
        "\n",
        "# Train the classifier\n",
        "classifier.fit(X_train, y_train)\n",
        "\n",
        "# Make predictions on the test set\n",
        "predictions = classifier.predict(X_test)\n",
        "\n",
        "# Evaluate the performance\n",
        "accuracy = metrics.accuracy_score(y_test, predictions)\n",
        "print(f\"Accuracy: {accuracy}\")\n",
        "\n",
        "# Example: Make predictions on a new sample\n",
        "new_sample = [[5.0, 3.5, 1.5, 0.2]]  # Replace this with your own sample\n",
        "new_prediction = classifier.predict(new_sample)\n",
        "print(f\"Prediction for the new sample: {iris.target_names[new_prediction[0]]}\")\n"
      ]
    }
  ]
}